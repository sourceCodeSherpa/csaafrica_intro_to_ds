{
 "cells": [
  {
   "cell_type": "code",
   "execution_count": 49,
   "id": "8d9ad665-7d63-42f0-b9c3-6fbce661180d",
   "metadata": {},
   "outputs": [],
   "source": [
    "import requests"
   ]
  },
  {
   "cell_type": "code",
   "execution_count": 50,
   "id": "7b070297-7db3-452f-a30c-f12179491c65",
   "metadata": {},
   "outputs": [
    {
     "data": {
      "text/plain": [
       "[{'name': 'Nairobi',\n",
       "  'local_names': {'zh': '内罗毕'},\n",
       "  'lat': -1.30326415,\n",
       "  'lon': 36.826384099341595,\n",
       "  'country': 'KE',\n",
       "  'state': 'Nairobi County'}]"
      ]
     },
     "execution_count": 50,
     "metadata": {},
     "output_type": "execute_result"
    }
   ],
   "source": [
    "# \n",
    "# Get latitude and longitude of Nairobi\n",
    "requests.get ('http://api.openweathermap.org/geo/1.0/direct?q=Nairobi&appid=62ada3cabf5d7f1fee905834d7431557').json()"
   ]
  },
  {
   "cell_type": "code",
   "execution_count": 51,
   "id": "523fb36d-be1c-4bc6-87c3-9155c9a58b8f",
   "metadata": {},
   "outputs": [],
   "source": [
    "# \n",
    "# Variables\n",
    "wai_api_key = '62ada3cabf5d7f1fee905834d7431557'\n",
    "latitude = -1.30326415\n",
    "longitude = 36.826384099341595   \n",
    "params = {\n",
    "    'appid': wai_api_key,\n",
    "    'lat': latitude,\n",
    "    'lon': longitude\n",
    "}\n",
    "# \n",
    "# Save url endpoint\n",
    "url = f'https://api.openweathermap.org/data/2.5/weather'"
   ]
  },
  {
   "cell_type": "code",
   "execution_count": 52,
   "id": "59afda2a-3665-43a9-b794-fb43c7727d64",
   "metadata": {},
   "outputs": [],
   "source": [
    "# \n",
    "# Run a http get request to get back a response from Open Weather Map API\n",
    "resp = requests.get(url, params = params)"
   ]
  },
  {
   "cell_type": "code",
   "execution_count": 53,
   "id": "f748bb8d-8449-42a0-b4ee-fd1cc2487b1a",
   "metadata": {},
   "outputs": [
    {
     "data": {
      "text/plain": [
       "200"
      ]
     },
     "execution_count": 53,
     "metadata": {},
     "output_type": "execute_result"
    }
   ],
   "source": [
    "# \n",
    "# Get the HTTP status code\n",
    "resp.status_code"
   ]
  },
  {
   "cell_type": "code",
   "execution_count": 54,
   "id": "e49c8a50-9c6f-4a0a-a771-f5ce21392b64",
   "metadata": {},
   "outputs": [
    {
     "data": {
      "text/plain": [
       "{'coord': {'lon': 36.8264, 'lat': -1.3033},\n",
       " 'weather': [{'id': 803,\n",
       "   'main': 'Clouds',\n",
       "   'description': 'broken clouds',\n",
       "   'icon': '04d'}],\n",
       " 'base': 'stations',\n",
       " 'main': {'temp': 297.08,\n",
       "  'feels_like': 296.73,\n",
       "  'temp_min': 297.08,\n",
       "  'temp_max': 297.08,\n",
       "  'pressure': 1013,\n",
       "  'humidity': 46,\n",
       "  'sea_level': 1013,\n",
       "  'grnd_level': 840},\n",
       " 'visibility': 10000,\n",
       " 'wind': {'speed': 2.11, 'deg': 173, 'gust': 2.32},\n",
       " 'clouds': {'all': 84},\n",
       " 'dt': 1753091410,\n",
       " 'sys': {'country': 'KE', 'sunrise': 1753069039, 'sunset': 1753112431},\n",
       " 'timezone': 10800,\n",
       " 'id': 184736,\n",
       " 'name': 'Nairobi South',\n",
       " 'cod': 200}"
      ]
     },
     "execution_count": 54,
     "metadata": {},
     "output_type": "execute_result"
    }
   ],
   "source": [
    "# \n",
    "# Convert the response to a JSON object\n",
    "weather_json = resp.json()\n",
    "weather_json"
   ]
  },
  {
   "cell_type": "code",
   "execution_count": 55,
   "id": "e7f85fca-5f34-4e20-8c23-1b9cc29f16e0",
   "metadata": {},
   "outputs": [
    {
     "data": {
      "text/plain": [
       "{'lon': 36.8264, 'lat': -1.3033}"
      ]
     },
     "execution_count": 55,
     "metadata": {},
     "output_type": "execute_result"
    }
   ],
   "source": [
    "# \n",
    "# Access the map coordinates\n",
    "weather_json['coord']"
   ]
  },
  {
   "cell_type": "code",
   "execution_count": 56,
   "id": "18f721f7-bb33-4055-a259-37fb8adddc84",
   "metadata": {},
   "outputs": [
    {
     "data": {
      "text/plain": [
       "'broken clouds'"
      ]
     },
     "execution_count": 56,
     "metadata": {},
     "output_type": "execute_result"
    }
   ],
   "source": [
    "# \n",
    "# Access the weather description of the given coordinates\n",
    "weather_json['weather'][0]['description']"
   ]
  },
  {
   "cell_type": "code",
   "execution_count": 91,
   "id": "c2af3413-820b-4c12-9627-e7e8d0f5bdf7",
   "metadata": {},
   "outputs": [],
   "source": [
    "# \n",
    "# Write a function that gets the weather stats of any city\n",
    "# \n",
    "def get_weather_stats(city):\n",
    "    # \n",
    "    # get coordinates of city\n",
    "    api_key = '62ada3cabf5d7f1fee905834d7431557'\n",
    "    citi = city\n",
    "    base_url = 'http://api.openweathermap.org/geo/1.0/direct?'\n",
    "    params = {\n",
    "        'q': citi,\n",
    "        'appid': api_key\n",
    "    }\n",
    "    resp = requests.get(base_url, params).json()\n",
    "    coordinates = {\n",
    "        'lat': resp[0]['lat'],\n",
    "        'lon': resp[0]['lon']\n",
    "    }\n",
    "    # \n",
    "    # Get the weather data for that city\n",
    "    latitude = coordinates['lat']\n",
    "    longitude = coordinates['lon']\n",
    "    base_url_2 = 'https://api.openweathermap.org/data/2.5/weather'\n",
    "    params_2 = {\n",
    "        'lat': latitude,\n",
    "        'lon': longitude,\n",
    "        'appid': api_key\n",
    "    }\n",
    "    try:\n",
    "        resp_2 = requests.get(base_url_2, params = params_2)\n",
    "        # \n",
    "        # Raises HTTPError for bad responses\n",
    "        resp_2.raise_for_status()\n",
    "        # \n",
    "        # JSONify the response\n",
    "        data = resp_2.json()\n",
    "        # \n",
    "        # Encapsulate the return stats in an object\n",
    "        weather = {\n",
    "            'city': data['name'],\n",
    "            'country': data['sys']['country'],\n",
    "            'temperature': data['main']['temp'],\n",
    "            'description': data['weather'][0]['description'],\n",
    "            'humidity': data['main']['humidity'],\n",
    "            'wind_speed': data['wind']['speed'] \n",
    "        }\n",
    "        return weather\n",
    "        \n",
    "    except requests.exceptions.HTTPError as err:\n",
    "        return {'error': f\"HTTP error ocurred: {err}\"}\n",
    "    except requests.exceptions.RequestException as err:\n",
    "        return {'error': f\"Request failed {err}\"}\n",
    "    except KeyError:\n",
    "        return {'error': \"Invalid response received. Check city name or API key.\"}\n",
    "        "
   ]
  },
  {
   "cell_type": "code",
   "execution_count": 94,
   "id": "2f5f11a0-b15f-4522-90f9-5f7d8ef58a79",
   "metadata": {},
   "outputs": [
    {
     "name": "stdout",
     "output_type": "stream",
     "text": [
      "\n",
      "        Gangxia, CN \n",
      "\n",
      "        Temperature: 297.29°C \n",
      "\n",
      "        Description: light rain \n",
      "\n",
      "        Humidity: 90 \n",
      "\n",
      "        Wind Speed: 4.85 m/s\n",
      "    \n"
     ]
    }
   ],
   "source": [
    "weather_info = get_weather_stats(\"Shenzhen\")\n",
    "\n",
    "if 'error' in weather_info:\n",
    "    print(weather_info['error'])\n",
    "else:\n",
    "    print(f\"\"\"\n",
    "        {weather_info['city']}, {weather_info['country']} \\n\n",
    "        Temperature: {weather_info['temperature']}°C \\n\n",
    "        Description: {weather_info['description']} \\n\n",
    "        Humidity: {weather_info['humidity']} \\n\n",
    "        Wind Speed: {weather_info['wind_speed']} m/s\n",
    "    \"\"\")"
   ]
  },
  {
   "cell_type": "code",
   "execution_count": null,
   "id": "ddeae103-cb5a-41e6-bd67-4b24ebd6e370",
   "metadata": {},
   "outputs": [],
   "source": []
  },
  {
   "cell_type": "code",
   "execution_count": null,
   "id": "cbe49c48-8d1c-4637-b90b-2d001a68191c",
   "metadata": {},
   "outputs": [],
   "source": []
  }
 ],
 "metadata": {
  "kernelspec": {
   "display_name": "Python 3 (ipykernel)",
   "language": "python",
   "name": "python3"
  },
  "language_info": {
   "codemirror_mode": {
    "name": "ipython",
    "version": 3
   },
   "file_extension": ".py",
   "mimetype": "text/x-python",
   "name": "python",
   "nbconvert_exporter": "python",
   "pygments_lexer": "ipython3",
   "version": "3.10.18"
  }
 },
 "nbformat": 4,
 "nbformat_minor": 5
}
