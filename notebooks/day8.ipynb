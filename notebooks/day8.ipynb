{
 "cells": [
  {
   "cell_type": "code",
   "execution_count": 1,
   "id": "4816c114-e57f-44af-b242-376f0ff77d96",
   "metadata": {},
   "outputs": [],
   "source": [
    "# \n",
    "# Array Indexing and slicing arrays\n",
    "matrix = [\n",
    "    [1, 2, 3],\n",
    "    [4, 5, 6],\n",
    "    [7, 8, 9]\n",
    "]"
   ]
  },
  {
   "cell_type": "code",
   "execution_count": 2,
   "id": "9d8a3f60-35f8-49ba-a605-aa1272832ef4",
   "metadata": {},
   "outputs": [
    {
     "data": {
      "text/plain": [
       "[1, 2, 3]"
      ]
     },
     "execution_count": 2,
     "metadata": {},
     "output_type": "execute_result"
    }
   ],
   "source": [
    "# \n",
    "# Access the first array\n",
    "matrix[0]"
   ]
  },
  {
   "cell_type": "code",
   "execution_count": 3,
   "id": "a27133a4-db3d-4efc-b366-ac156e7d451e",
   "metadata": {},
   "outputs": [
    {
     "data": {
      "text/plain": [
       "6"
      ]
     },
     "execution_count": 3,
     "metadata": {},
     "output_type": "execute_result"
    }
   ],
   "source": [
    "# \n",
    "# Access the number: 6\n",
    "matrix[1][2]"
   ]
  },
  {
   "cell_type": "code",
   "execution_count": 4,
   "id": "844124ae-0b66-4f9e-bee0-102d1fe890d4",
   "metadata": {},
   "outputs": [
    {
     "data": {
      "text/plain": [
       "8"
      ]
     },
     "execution_count": 4,
     "metadata": {},
     "output_type": "execute_result"
    }
   ],
   "source": [
    "# \n",
    "# Access number: 8\n",
    "matrix[2][1]"
   ]
  },
  {
   "cell_type": "code",
   "execution_count": 6,
   "id": "dccdbecf-4656-411a-9764-202d207609a3",
   "metadata": {},
   "outputs": [
    {
     "data": {
      "text/plain": [
       "[[1, 2, 3], [4, 5, 6]]"
      ]
     },
     "execution_count": 6,
     "metadata": {},
     "output_type": "execute_result"
    }
   ],
   "source": [
    "# \n",
    "# Slicing\n",
    "matrix[0:2]"
   ]
  },
  {
   "cell_type": "code",
   "execution_count": 12,
   "id": "8a05a503-486f-4233-a00a-546220700257",
   "metadata": {},
   "outputs": [
    {
     "data": {
      "text/plain": [
       "9"
      ]
     },
     "execution_count": 12,
     "metadata": {},
     "output_type": "execute_result"
    }
   ],
   "source": [
    "# \n",
    "# Slice number:9\n",
    "matrix[2:][0][2]"
   ]
  },
  {
   "cell_type": "code",
   "execution_count": 15,
   "id": "fa8cbd86-a1ad-44bd-b2ba-f9c285f561f2",
   "metadata": {},
   "outputs": [
    {
     "data": {
      "text/plain": [
       "[4, 5, 6]"
      ]
     },
     "execution_count": 15,
     "metadata": {},
     "output_type": "execute_result"
    }
   ],
   "source": [
    "# \n",
    "# Get the 2nd element\n",
    "matrix[1][0:]"
   ]
  },
  {
   "cell_type": "code",
   "execution_count": 14,
   "id": "d82606a2-a53d-4e5d-a412-6dbfe1ec99d2",
   "metadata": {},
   "outputs": [
    {
     "data": {
      "text/plain": [
       "[4, 5]"
      ]
     },
     "execution_count": 14,
     "metadata": {},
     "output_type": "execute_result"
    }
   ],
   "source": [
    "# \n",
    "# Get numbers 4 & 5\n",
    "matrix[1][0:2]"
   ]
  },
  {
   "cell_type": "code",
   "execution_count": 17,
   "id": "b2b564ad-2ed2-463f-b447-0eed07fc9068",
   "metadata": {},
   "outputs": [
    {
     "data": {
      "text/plain": [
       "[1, 4, 7]"
      ]
     },
     "execution_count": 17,
     "metadata": {},
     "output_type": "execute_result"
    }
   ],
   "source": [
    "# \n",
    "# get the first element of each row using a list comprehension instead of a for loop\n",
    "[row[0] for row in matrix]"
   ]
  },
  {
   "cell_type": "code",
   "execution_count": 18,
   "id": "ed3f8eed-44c5-4626-9cec-a60fd0e54c91",
   "metadata": {},
   "outputs": [
    {
     "data": {
      "text/plain": [
       "[3, 6, 9]"
      ]
     },
     "execution_count": 18,
     "metadata": {},
     "output_type": "execute_result"
    }
   ],
   "source": [
    "# \n",
    "# get the third element of each row using a list comprehension\n",
    "[row[2] for row in matrix]"
   ]
  },
  {
   "cell_type": "code",
   "execution_count": 19,
   "id": "6773b1ba-20cf-4836-a42b-79b2a62ba6a2",
   "metadata": {},
   "outputs": [
    {
     "name": "stdout",
     "output_type": "stream",
     "text": [
      "2\n",
      "5\n",
      "8\n"
     ]
    }
   ],
   "source": [
    "# \n",
    "# Get the second element in each row using a for loop\n",
    "for row in matrix:\n",
    "    print(row[1])"
   ]
  },
  {
   "cell_type": "code",
   "execution_count": 20,
   "id": "67cbb092-569d-4abc-84bf-d6839e5f1dea",
   "metadata": {},
   "outputs": [],
   "source": [
    "# \n",
    "# Accessing keys and vaslues in a dictionary\n",
    "students = {\n",
    "    'john': {\n",
    "        'age': 15,\n",
    "        'grade': 'a'\n",
    "    },\n",
    "    'jane': {\n",
    "        'age': 14,\n",
    "        'grade': 'b'\n",
    "    }\n",
    "}"
   ]
  },
  {
   "cell_type": "code",
   "execution_count": 27,
   "id": "c5db45c7-1ae3-45e4-99dd-b15cf7737fe4",
   "metadata": {},
   "outputs": [
    {
     "data": {
      "text/plain": [
       "{'age': 14, 'grade': 'b'}"
      ]
     },
     "execution_count": 27,
     "metadata": {},
     "output_type": "execute_result"
    }
   ],
   "source": [
    "# \n",
    "# Get all information about Jane\n",
    "students['jane']\n"
   ]
  },
  {
   "cell_type": "code",
   "execution_count": 28,
   "id": "8c49e59a-bc52-4a1c-9afa-ae876fea5da1",
   "metadata": {},
   "outputs": [
    {
     "name": "stdout",
     "output_type": "stream",
     "text": [
      "Jane is 14 years old and she got a mean grade of B for her KCSE\n"
     ]
    }
   ],
   "source": [
    "# \n",
    "# Print a sentence using her values\n",
    "print(f\"Jane is {students['jane']['age']} years old and she got a mean grade of {students['jane']['grade'].capitalize()} for her KCSE\")"
   ]
  },
  {
   "cell_type": "code",
   "execution_count": 29,
   "id": "6f25d51b-6072-47a5-a0d0-0eaee412928c",
   "metadata": {},
   "outputs": [],
   "source": [
    "data = {\n",
    "    'maths': [90, 80, 85],\n",
    "    'science': [75, 85, 92]\n",
    "}"
   ]
  },
  {
   "cell_type": "code",
   "execution_count": 30,
   "id": "32dad304-b618-481a-875c-99e86d11b760",
   "metadata": {},
   "outputs": [
    {
     "data": {
      "text/plain": [
       "[75, 85, 92]"
      ]
     },
     "execution_count": 30,
     "metadata": {},
     "output_type": "execute_result"
    }
   ],
   "source": [
    "# \n",
    "# Get all the science scores.\n",
    "data['science']"
   ]
  },
  {
   "cell_type": "code",
   "execution_count": 32,
   "id": "5dbca4bc-c157-4ea8-ad79-fd71534221a0",
   "metadata": {},
   "outputs": [
    {
     "data": {
      "text/plain": [
       "[80, 85]"
      ]
     },
     "execution_count": 32,
     "metadata": {},
     "output_type": "execute_result"
    }
   ],
   "source": [
    "# \n",
    "# Get the last 2 elements of maths\n",
    "data['maths'][1:]"
   ]
  },
  {
   "cell_type": "code",
   "execution_count": 41,
   "id": "6bf02e44-0716-4303-b656-881fcc46bec9",
   "metadata": {},
   "outputs": [
    {
     "data": {
      "text/plain": [
       "85.0"
      ]
     },
     "execution_count": 41,
     "metadata": {},
     "output_type": "execute_result"
    }
   ],
   "source": [
    "# \n",
    "# Get average for math scores\n",
    "sum = 0\n",
    "for mark in data['maths']:\n",
    "    sum += mark\n",
    "\n",
    "avg = sum / len(data['maths'])\n",
    "avg"
   ]
  },
  {
   "cell_type": "code",
   "execution_count": 44,
   "id": "24ee7528-23be-434f-b5d6-1381560c83ba",
   "metadata": {},
   "outputs": [],
   "source": [
    "complex_data = [\n",
    "    {\n",
    "        'name': 'john',\n",
    "        'grades': {\n",
    "            'maths': [90, 85, 88],\n",
    "            'science': [70, 72]\n",
    "        }\n",
    "    },\n",
    "    {\n",
    "        'name': 'alice',\n",
    "        'grades': {\n",
    "            'maths': [10, 56, 68],\n",
    "            'science': [95, 99]\n",
    "        }\n",
    "    }\n",
    "]"
   ]
  },
  {
   "cell_type": "code",
   "execution_count": 45,
   "id": "06ac7d6b-fce9-48fd-a061-df459d9cecbd",
   "metadata": {},
   "outputs": [
    {
     "data": {
      "text/plain": [
       "85"
      ]
     },
     "execution_count": 45,
     "metadata": {},
     "output_type": "execute_result"
    }
   ],
   "source": [
    "# \n",
    "# Access 85\n",
    "complex_data[0]['grades']['maths'][1]"
   ]
  },
  {
   "cell_type": "code",
   "execution_count": 47,
   "id": "a35cec21-25f7-4635-bb83-9ea6916b3edb",
   "metadata": {},
   "outputs": [
    {
     "data": {
      "text/plain": [
       "99"
      ]
     },
     "execution_count": 47,
     "metadata": {},
     "output_type": "execute_result"
    }
   ],
   "source": [
    "# \n",
    "# Access 99\n",
    "complex_data[1]['grades']['science'][1]"
   ]
  },
  {
   "cell_type": "code",
   "execution_count": 48,
   "id": "25307d7c-db09-436c-a358-b9badd72ea54",
   "metadata": {},
   "outputs": [],
   "source": [
    "student_data = [\n",
    "    {\n",
    "        \n",
    "    }\n",
    "]"
   ]
  },
  {
   "cell_type": "code",
   "execution_count": 49,
   "id": "bca1cc72-9f9d-49b3-97e9-f8fc059552a6",
   "metadata": {},
   "outputs": [],
   "source": [
    "# List comprehension\n",
    "# [student['name'] for student in student_data['students'] if student['age'] > 16]\n",
    "# \n",
    "# [student for student in student_data['students'] if student['grades']['english'] >= 16]"
   ]
  },
  {
   "cell_type": "code",
   "execution_count": null,
   "id": "3b194874-39be-417d-8a6b-a7d8f9cfb9ae",
   "metadata": {},
   "outputs": [],
   "source": [
    "# \n",
    "# Imaginary number\n"
   ]
  }
 ],
 "metadata": {
  "kernelspec": {
   "display_name": "Python 3 (ipykernel)",
   "language": "python",
   "name": "python3"
  },
  "language_info": {
   "codemirror_mode": {
    "name": "ipython",
    "version": 3
   },
   "file_extension": ".py",
   "mimetype": "text/x-python",
   "name": "python",
   "nbconvert_exporter": "python",
   "pygments_lexer": "ipython3",
   "version": "3.10.18"
  }
 },
 "nbformat": 4,
 "nbformat_minor": 5
}
